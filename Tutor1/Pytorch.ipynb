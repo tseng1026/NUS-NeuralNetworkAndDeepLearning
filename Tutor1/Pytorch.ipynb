{
 "cells": [
  {
   "cell_type": "code",
   "execution_count": 1,
   "metadata": {},
   "outputs": [],
   "source": [
    "import numpy as np\n",
    "import torch\n",
    "import torch.nn as nn"
   ]
  },
  {
   "cell_type": "code",
   "execution_count": 2,
   "metadata": {},
   "outputs": [
    {
     "name": "stdout",
     "output_type": "stream",
     "text": [
      "tensor([2, 5, 8, 9])\n",
      "shape: torch.Size([4]), device: cpu, dtype: torch.int64\n"
     ]
    }
   ],
   "source": [
    "### Problem 1-1\n",
    "lst = [2, 5, 8, 9]\n",
    "numA = torch.tensor(lst)\n",
    "print(numA)\n",
    "print(\"shape: {}, device: {}, dtype: {}\".format(numA.shape, numA.device, numA.dtype))"
   ]
  },
  {
   "cell_type": "code",
   "execution_count": 3,
   "metadata": {},
   "outputs": [
    {
     "name": "stdout",
     "output_type": "stream",
     "text": [
      "[2 5 8 9]\n"
     ]
    }
   ],
   "source": [
    "### Problem 1-2\n",
    "numE = np.array(numA)\n",
    "print (numE)"
   ]
  },
  {
   "cell_type": "code",
   "execution_count": 4,
   "metadata": {},
   "outputs": [
    {
     "data": {
      "text/plain": [
       "tensor([[2., 2., 2., 2., 2.],\n",
       "        [2., 2., 2., 2., 2.],\n",
       "        [2., 2., 2., 2., 2.],\n",
       "        [2., 2., 2., 2., 2.]])"
      ]
     },
     "execution_count": 4,
     "metadata": {},
     "output_type": "execute_result"
    }
   ],
   "source": [
    "### Problem 2-1\n",
    "numB = torch.zeros((4, 5))\n",
    "numB = numB + 2\n",
    "numB"
   ]
  },
  {
   "cell_type": "code",
   "execution_count": 5,
   "metadata": {},
   "outputs": [
    {
     "data": {
      "text/plain": [
       "tensor([[3., 3., 3., 3., 3.],\n",
       "        [3., 3., 3., 3., 3.],\n",
       "        [3., 3., 3., 3., 3.],\n",
       "        [3., 3., 3., 3., 3.]])"
      ]
     },
     "execution_count": 5,
     "metadata": {},
     "output_type": "execute_result"
    }
   ],
   "source": [
    "### Problem 2-2\n",
    "numC = torch.ones((4, 5))\n",
    "numD = numB + numC\n",
    "numD"
   ]
  },
  {
   "cell_type": "code",
   "execution_count": 6,
   "metadata": {},
   "outputs": [
    {
     "data": {
      "text/plain": [
       "tensor([[ 0.1848, -0.3165,  0.7548, -0.9935],\n",
       "        [ 0.6102,  0.7002, -0.5710, -1.1957],\n",
       "        [-0.5787,  1.6947,  0.2909, -0.0339],\n",
       "        [-1.0902,  0.7952,  0.1263, -0.9295],\n",
       "        [ 0.8460,  0.6526,  0.1263, -0.6826]], dtype=torch.float64)"
      ]
     },
     "execution_count": 6,
     "metadata": {},
     "output_type": "execute_result"
    }
   ],
   "source": [
    "### Problem 3-1\n",
    "numF = np.random.randn(20).reshape((5, 4))\n",
    "numG = torch.from_numpy(numF)\n",
    "numG"
   ]
  },
  {
   "cell_type": "code",
   "execution_count": 7,
   "metadata": {},
   "outputs": [
    {
     "data": {
      "text/plain": [
       "tensor([[ 0.2098,  2.1778, -1.2210, -0.2956, -0.1750],\n",
       "        [-1.5696,  1.2696, -0.7864, -1.4668,  2.0199],\n",
       "        [-1.2547,  3.9220,  1.1555, -4.9987,  0.4346],\n",
       "        [-0.6413,  3.3588,  0.1766, -3.3834,  0.7570],\n",
       "        [-1.0999,  1.8789, -0.6211, -1.5588,  0.8855]], dtype=torch.float64)"
      ]
     },
     "execution_count": 7,
     "metadata": {},
     "output_type": "execute_result"
    }
   ],
   "source": [
    "### Problem 3-2\n",
    "numH = torch.randn_like(numG)\n",
    "numH = torch.matmul(numG, numH.T)\n",
    "numH"
   ]
  },
  {
   "cell_type": "code",
   "execution_count": 8,
   "metadata": {},
   "outputs": [
    {
     "name": "stdout",
     "output_type": "stream",
     "text": [
      "X: tensor([1., 2., 3., 4., 5.])\n",
      "W: tensor([-1.4714,  0.0670, -0.1134, -0.8371,  0.2535])\n",
      "b: tensor([-1.0625])\n",
      "H: tensor([-4.8211])\n",
      "Y: tensor([0.0080])\n"
     ]
    }
   ],
   "source": [
    "### Problem 4\n",
    "X = torch.tensor([1, 2, 3, 4, 5], dtype = torch.float32)\n",
    "W = torch.randn (5, dtype = torch.float32)\n",
    "b = torch.randn (1, dtype = torch.float32)\n",
    "H = torch.matmul(X, W) + b\n",
    "Y = torch.sigmoid(H)\n",
    "print (\"X:\", X)\n",
    "print (\"W:\", W)\n",
    "print (\"b:\", b)\n",
    "print (\"H:\", H)\n",
    "print (\"Y:\", Y)"
   ]
  },
  {
   "cell_type": "code",
   "execution_count": 9,
   "metadata": {},
   "outputs": [
    {
     "name": "stdout",
     "output_type": "stream",
     "text": [
      "X: tensor([1., 2., 3., 4., 5.])\n",
      "W: tensor([[ 1.4851,  0.5083,  0.0996],\n",
      "        [-0.9396,  0.2929,  0.2804],\n",
      "        [-1.1997, -0.5109, -0.1780],\n",
      "        [-0.9841,  0.6139, -0.2622],\n",
      "        [-1.2287, -0.6026, -0.6712]])\n",
      "b: tensor([-0.4060,  0.1037,  0.4520])\n",
      "H: tensor([5.1498e-07, 2.9058e-01, 2.1327e-02])\n"
     ]
    }
   ],
   "source": [
    "### Problem 5\n",
    "X = torch.tensor([1, 2, 3, 4, 5], dtype = torch.float32)\n",
    "W = torch.randn ((5, 3), dtype = torch.float32)\n",
    "b = torch.randn (3, dtype = torch.float32)\n",
    "H = torch.matmul(X, W) + b\n",
    "H = torch.sigmoid(H)\n",
    "print (\"X:\", X)\n",
    "print (\"W:\", W)\n",
    "print (\"b:\", b)\n",
    "print (\"H:\", H)"
   ]
  },
  {
   "cell_type": "code",
   "execution_count": 10,
   "metadata": {},
   "outputs": [
    {
     "name": "stdout",
     "output_type": "stream",
     "text": [
      "X: tensor([1., 2., 3., 4., 5.])\n",
      "W: tensor([[ 0.8052,  1.7332,  0.9247],\n",
      "        [-1.0615,  1.8964, -0.6034],\n",
      "        [-0.2892,  1.3633, -0.9021]])\n",
      "b: tensor([-0.7367, -0.3285,  3.2190])\n",
      "Y: tensor([0.0157, 0.0579, 0.9264])\n"
     ]
    },
    {
     "name": "stderr",
     "output_type": "stream",
     "text": [
      "/Users/e0503474/.brew/lib/python3.7/site-packages/ipykernel_launcher.py:7: UserWarning: Implicit dimension choice for softmax has been deprecated. Change the call to include dim=X as an argument.\n",
      "  import sys\n"
     ]
    }
   ],
   "source": [
    "### Problem 6\n",
    "X = torch.tensor([1, 2, 3, 4, 5], dtype = torch.float32)\n",
    "W = torch.randn ((3, 3), dtype = torch.float32)\n",
    "b = torch.randn (3, dtype = torch.float32)\n",
    "Y = torch.matmul(H, W) + b\n",
    "a = torch.nn.Softmax()\n",
    "Y = a(Y)\t\t\t\t\t\t# activation function\n",
    "print (\"X:\", X)\n",
    "print (\"W:\", W)\n",
    "print (\"b:\", b)\n",
    "print (\"Y:\", Y)"
   ]
  },
  {
   "cell_type": "code",
   "execution_count": null,
   "metadata": {},
   "outputs": [],
   "source": []
  }
 ],
 "metadata": {
  "kernelspec": {
   "display_name": "Python 3",
   "language": "python",
   "name": "python3"
  },
  "language_info": {
   "codemirror_mode": {
    "name": "ipython",
    "version": 3
   },
   "file_extension": ".py",
   "mimetype": "text/x-python",
   "name": "python",
   "nbconvert_exporter": "python",
   "pygments_lexer": "ipython3",
   "version": "3.7.6"
  }
 },
 "nbformat": 4,
 "nbformat_minor": 4
}
